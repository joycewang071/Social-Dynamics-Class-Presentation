{
 "cells": [
  {
   "cell_type": "code",
   "execution_count": 1,
   "id": "017a5ae6",
   "metadata": {},
   "outputs": [],
   "source": [
    "import numpy as np\n",
    "import pandas as pd"
   ]
  },
  {
   "cell_type": "code",
   "execution_count": 2,
   "id": "1a36c033",
   "metadata": {},
   "outputs": [],
   "source": [
    "handcoded = pd.read_csv(\"handcoded.csv\")"
   ]
  },
  {
   "cell_type": "code",
   "execution_count": 3,
   "id": "fa4c627f",
   "metadata": {},
   "outputs": [],
   "source": [
    "data0 = pd.read_csv(\"fullweibo_1011.csv\")"
   ]
  },
  {
   "cell_type": "code",
   "execution_count": 4,
   "id": "1f641a92",
   "metadata": {},
   "outputs": [],
   "source": [
    "joined_data = handcoded.merge(data0[[\"weibo_id\", \"content_cleaned\"]], on='weibo_id', how='left')\n",
    "handcoded1=joined_data[[\"weibo_id\",\"content\",\"content_cleaned\",\"Labeled\"]]"
   ]
  },
  {
   "cell_type": "code",
   "execution_count": 5,
   "id": "78f144ce",
   "metadata": {},
   "outputs": [],
   "source": [
    "handcoded1.to_csv(\"handcoded1.csv\", encoding=\"utf-8-sig\", index= False)"
   ]
  },
  {
   "cell_type": "code",
   "execution_count": 6,
   "id": "2541a30b",
   "metadata": {},
   "outputs": [
    {
     "name": "stderr",
     "output_type": "stream",
     "text": [
      "C:\\Users\\10292\\anaconda3\\lib\\site-packages\\tqdm\\auto.py:21: TqdmWarning: IProgress not found. Please update jupyter and ipywidgets. See https://ipywidgets.readthedocs.io/en/stable/user_install.html\n",
      "  from .autonotebook import tqdm as notebook_tqdm\n"
     ]
    }
   ],
   "source": [
    "from tqdm import tqdm\n",
    "from transformers import BertTokenizer, BertModel\n",
    "from torch._C import *\n",
    "import torch\n",
    "from torch import nn\n",
    "from torch.optim import Adam"
   ]
  },
  {
   "cell_type": "code",
   "execution_count": 7,
   "id": "4192d79a",
   "metadata": {},
   "outputs": [],
   "source": [
    "tokenizer = BertTokenizer.from_pretrained('bert-base-cased')\n",
    "\n",
    "class Dataset(torch.utils.data.Dataset):\n",
    "    def __init__(self, df):\n",
    "        self.labels = df['Labeled'].tolist()\n",
    "        self.texts = [tokenizer(text, padding='max_length', max_length = 512, truncation=True,\n",
    "                                return_tensors=\"pt\") for text in df['content_cleaned']]\n",
    "\n",
    "    def classes(self):\n",
    "        return self.labels\n",
    "\n",
    "    def __len__(self):\n",
    "        return len(self.labels)\n",
    "\n",
    "    def get_batch_labels(self, idx):\n",
    "        return np.array(self.labels[idx])\n",
    "\n",
    "    def get_batch_texts(self, idx):\n",
    "        return self.texts[idx]\n",
    "\n",
    "    def __getitem__(self, idx):\n",
    "        batch_texts = self.get_batch_texts(idx)\n",
    "        batch_y = self.get_batch_labels(idx)\n",
    "\n",
    "        return batch_texts, batch_y\n",
    "\n",
    "class BertClassifier(nn.Module):\n",
    "    def __init__(self, dropout=0.5):\n",
    "        super(BertClassifier, self).__init__()\n",
    "        self.bert = BertModel.from_pretrained('bert-base-cased')\n",
    "        self.dropout = nn.Dropout(dropout)\n",
    "        self.linear = nn.Linear(768, 1)\n",
    "        self.sigmoid = nn.Sigmoid()\n",
    "\n",
    "    def forward(self, input_id, mask):\n",
    "        _, pooled_output = self.bert(input_ids=input_id, attention_mask=mask, return_dict=False)\n",
    "        dropout_output = self.dropout(pooled_output)\n",
    "        linear_output = self.linear(dropout_output)\n",
    "        final_layer = self.sigmoid(linear_output)\n",
    "\n",
    "        return final_layer\n",
    "\n",
    "def train(model, train_data, val_data, learning_rate, epochs):\n",
    "    train, val = Dataset(train_data), Dataset(val_data)\n",
    "\n",
    "    train_dataloader = torch.utils.data.DataLoader(train, batch_size=10, shuffle=True)\n",
    "    val_dataloader = torch.utils.data.DataLoader(val, batch_size=10)\n",
    "\n",
    "    use_cuda = torch.cuda.is_available()\n",
    "    device = torch.device(\"cuda\" if use_cuda else \"cpu\")\n",
    "\n",
    "    criterion = nn.BCELoss()\n",
    "    optimizer = Adam(model.parameters(), lr=learning_rate)\n",
    "\n",
    "    if use_cuda:\n",
    "            model = model.cuda()\n",
    "            criterion = criterion.cuda()\n",
    "\n",
    "    for epoch_num in range(epochs):\n",
    "            total_acc_train = 0\n",
    "            total_loss_train = 0   \n",
    "            total_pre_rec_train = 0\n",
    "            total_pre_train = 0\n",
    "            total_rec_train = 0\n",
    "            for train_input, train_label in tqdm(train_dataloader):\n",
    "                train_label = train_label.to(device)\n",
    "                mask = train_input['attention_mask'].to(device)\n",
    "                input_id = train_input['input_ids'].squeeze(1).to(device)\n",
    "\n",
    "                output = model(input_id, mask)[:, 0]\n",
    "\n",
    "                batch_loss = criterion(output, train_label.float())\n",
    "                total_loss_train += batch_loss.item()\n",
    "\n",
    "                output_label = torch.round(output)\n",
    "                acc = (output_label == train_label).sum()\n",
    "                total_acc_train += acc\n",
    "\n",
    "                total_pre_rec_train += ((output_label == 1) & (train_label == 1)).sum()\n",
    "                total_pre_train += output_label.sum()\n",
    "                total_rec_train += train_label.sum()\n",
    "\n",
    "                model.zero_grad()\n",
    "                batch_loss.backward()\n",
    "                optimizer.step()\n",
    "\n",
    "            total_acc_val = 0\n",
    "            total_loss_val = 0\n",
    "            total_pre_rec_val = 0\n",
    "            total_pre_val = 0\n",
    "            total_rec_val = 0\n",
    "            with torch.no_grad():\n",
    "                for val_input, val_label in val_dataloader:\n",
    "                    val_label = val_label.to(device)\n",
    "                    mask = val_input['attention_mask'].to(device)\n",
    "                    input_id = val_input['input_ids'].squeeze(1).to(device)\n",
    "\n",
    "                    output = model(input_id, mask)[:, 0]\n",
    "\n",
    "                    batch_loss = criterion(output, val_label.float())\n",
    "                    total_loss_val += batch_loss.item()\n",
    "\n",
    "                    output_label = torch.round(output)\n",
    "                    acc = (output_label == val_label).sum()\n",
    "                    total_acc_val += acc\n",
    "\n",
    "                    total_pre_rec_val += ((output_label == 1) & (val_label == 1)).sum()\n",
    "                    total_pre_val += output_label.sum()\n",
    "                    total_rec_val += val_label.sum()\n",
    "\n",
    "            print(f'Epochs: {epoch_num + 1} | Train Loss: {total_loss_train / len(train_data): .3f} | Train Accuracy: {total_acc_train / len(train_data): .3f} | Train Precision: {total_pre_rec_train / total_pre_train: .3f} | Train Recall: {total_pre_rec_train / total_rec_train: .3f}')\n",
    "            print(f'Epochs: {epoch_num + 1} | Valid Loss: {total_loss_val / len(val_data): .3f} | Valid Accuracy: {total_acc_val / len(val_data): .3f} | Valid Precision: {total_pre_rec_val / total_pre_val: .3f} | Valid Recall: {total_pre_rec_val / total_rec_val: .3f}')\n",
    "            \n",
    "            torch.save(model.state_dict(), \"models/model_%d.pt\" % (epoch_num + 1))\n",
    "\n",
    "def evaluate(model, test_data):\n",
    "    test = Dataset(test_data)\n",
    "\n",
    "    test_dataloader = torch.utils.data.DataLoader(test, batch_size=2)\n",
    "\n",
    "    use_cuda = torch.cuda.is_available()\n",
    "    device = torch.device(\"cuda\" if use_cuda else \"cpu\")\n",
    "\n",
    "    if use_cuda:\n",
    "        model = model.cuda()\n",
    "    \n",
    "    answer = []\n",
    "    total_acc_test = 0\n",
    "    total_pre_rec_test = 0\n",
    "    total_pre_test = 0\n",
    "    total_rec_test = 0\n",
    "    with torch.no_grad():\n",
    "        for test_input, test_label in test_dataloader:\n",
    "            test_label = test_label.to(device)\n",
    "            mask = test_input['attention_mask'].to(device)\n",
    "            input_id = test_input['input_ids'].squeeze(1).to(device)\n",
    "\n",
    "            output = model(input_id, mask)[:, 0]\n",
    "            answer.append(output)\n",
    "\n",
    "            output_label = torch.round(output)\n",
    "            acc = (output_label == test_label).sum()\n",
    "            total_acc_test += acc\n",
    "\n",
    "            total_pre_rec_test += ((output_label == 1) & (test_label == 1)).sum()\n",
    "            total_pre_test += output_label.sum()\n",
    "            total_rec_test += test_label.sum()\n",
    "\n",
    "    print(f'Test Accuracy: {total_acc_test / len(test_data): .3f}')\n",
    "    print(f'Test Precision: {total_pre_rec_test / total_pre_test: .3f}')\n",
    "    print(f'Test Recall: {total_pre_rec_test / total_rec_test: .3f}')\n",
    "\n",
    "    return answer\n",
    "\n",
    "def predict(model, test_data):\n",
    "    test = Dataset(test_data)\n",
    "\n",
    "    test_dataloader = torch.utils.data.DataLoader(test, batch_size=2)\n",
    "\n",
    "    use_cuda = torch.cuda.is_available()\n",
    "    device = torch.device(\"cuda\" if use_cuda else \"cpu\")\n",
    "\n",
    "    if use_cuda:\n",
    "        model = model.cuda()\n",
    "    \n",
    "    answer = []\n",
    "    \n",
    "\n",
    "    with torch.no_grad():\n",
    "        a=0\n",
    "        for test_input, test_label in test_dataloader:\n",
    "            mask = test_input['attention_mask'].to(device)\n",
    "            input_id = test_input['input_ids'].squeeze(1).to(device)\n",
    "\n",
    "            output = model(input_id, mask)[:, 0]\n",
    "            answer.append(output)\n",
    "            if (a%50==0):\n",
    "                print(f'labelled {a*2} comments')\n",
    "            a+=1\n",
    "            \n",
    "\n",
    "    return answer"
   ]
  },
  {
   "cell_type": "code",
   "execution_count": 8,
   "id": "a4302826",
   "metadata": {},
   "outputs": [],
   "source": [
    "handcoded1[\"content_cleaned\"] = handcoded1[\"content_cleaned\"].astype(str)\n"
   ]
  },
  {
   "cell_type": "code",
   "execution_count": 9,
   "id": "da735efb",
   "metadata": {},
   "outputs": [],
   "source": [
    "from sklearn.model_selection import train_test_split"
   ]
  },
  {
   "cell_type": "code",
   "execution_count": 12,
   "id": "e70b8312",
   "metadata": {},
   "outputs": [],
   "source": [
    "df_data_train, df_data_test = train_test_split(\n",
    "    handcoded1[[\"Labeled\", \"content_cleaned\"]], test_size=0.3, random_state=1027)\n",
    "\n",
    "df_data_train_train, df_data_train_val = np.split(df_data_train, [int(0.7*len(df_data_train))])"
   ]
  },
  {
   "cell_type": "code",
   "execution_count": 14,
   "id": "87a7736c",
   "metadata": {},
   "outputs": [],
   "source": [
    "device = torch.device('cpu')"
   ]
  },
  {
   "cell_type": "code",
   "execution_count": 16,
   "id": "bb470ee1",
   "metadata": {
    "scrolled": false
   },
   "outputs": [
    {
     "name": "stderr",
     "output_type": "stream",
     "text": [
      "Some weights of the model checkpoint at bert-base-cased were not used when initializing BertModel: ['cls.predictions.transform.LayerNorm.weight', 'cls.predictions.transform.LayerNorm.bias', 'cls.predictions.decoder.weight', 'cls.predictions.bias', 'cls.seq_relationship.bias', 'cls.seq_relationship.weight', 'cls.predictions.transform.dense.bias', 'cls.predictions.transform.dense.weight']\n",
      "- This IS expected if you are initializing BertModel from the checkpoint of a model trained on another task or with another architecture (e.g. initializing a BertForSequenceClassification model from a BertForPreTraining model).\n",
      "- This IS NOT expected if you are initializing BertModel from the checkpoint of a model that you expect to be exactly identical (initializing a BertForSequenceClassification model from a BertForSequenceClassification model).\n",
      "100%|██████████████████████████████████████████████████████████████████████████████████| 15/15 [07:09<00:00, 28.65s/it]\n"
     ]
    },
    {
     "name": "stdout",
     "output_type": "stream",
     "text": [
      "Epochs: 1 | Train Loss:  0.060 | Train Accuracy:  0.782 | Train Precision:  0.857 | Train Recall:  0.526\n",
      "Epochs: 1 | Valid Loss:  0.054 | Valid Accuracy:  0.825 | Valid Precision:  0.800 | Valid Recall:  0.696\n"
     ]
    },
    {
     "name": "stderr",
     "output_type": "stream",
     "text": [
      "100%|██████████████████████████████████████████████████████████████████████████████████| 15/15 [07:08<00:00, 28.54s/it]\n"
     ]
    },
    {
     "name": "stdout",
     "output_type": "stream",
     "text": [
      "Epochs: 2 | Train Loss:  0.047 | Train Accuracy:  0.830 | Train Precision:  0.833 | Train Recall:  0.702\n",
      "Epochs: 2 | Valid Loss:  0.052 | Valid Accuracy:  0.841 | Valid Precision:  0.882 | Valid Recall:  0.652\n"
     ]
    },
    {
     "name": "stderr",
     "output_type": "stream",
     "text": [
      "100%|██████████████████████████████████████████████████████████████████████████████████| 15/15 [07:39<00:00, 30.66s/it]\n"
     ]
    },
    {
     "name": "stdout",
     "output_type": "stream",
     "text": [
      "Epochs: 3 | Train Loss:  0.042 | Train Accuracy:  0.823 | Train Precision:  0.844 | Train Recall:  0.667\n",
      "Epochs: 3 | Valid Loss:  0.053 | Valid Accuracy:  0.825 | Valid Precision:  0.875 | Valid Recall:  0.609\n"
     ]
    },
    {
     "name": "stderr",
     "output_type": "stream",
     "text": [
      "100%|██████████████████████████████████████████████████████████████████████████████████| 15/15 [07:10<00:00, 28.71s/it]\n"
     ]
    },
    {
     "name": "stdout",
     "output_type": "stream",
     "text": [
      "Epochs: 4 | Train Loss:  0.040 | Train Accuracy:  0.850 | Train Precision:  0.872 | Train Recall:  0.719\n",
      "Epochs: 4 | Valid Loss:  0.048 | Valid Accuracy:  0.857 | Valid Precision:  0.889 | Valid Recall:  0.696\n"
     ]
    },
    {
     "name": "stderr",
     "output_type": "stream",
     "text": [
      "100%|██████████████████████████████████████████████████████████████████████████████████| 15/15 [07:18<00:00, 29.25s/it]\n"
     ]
    },
    {
     "name": "stdout",
     "output_type": "stream",
     "text": [
      "Epochs: 5 | Train Loss:  0.039 | Train Accuracy:  0.850 | Train Precision:  0.857 | Train Recall:  0.737\n",
      "Epochs: 5 | Valid Loss:  0.047 | Valid Accuracy:  0.825 | Valid Precision:  0.833 | Valid Recall:  0.652\n"
     ]
    },
    {
     "name": "stderr",
     "output_type": "stream",
     "text": [
      "100%|██████████████████████████████████████████████████████████████████████████████████| 15/15 [07:57<00:00, 31.86s/it]\n"
     ]
    },
    {
     "name": "stdout",
     "output_type": "stream",
     "text": [
      "Epochs: 6 | Train Loss:  0.036 | Train Accuracy:  0.857 | Train Precision:  0.860 | Train Recall:  0.754\n",
      "Epochs: 6 | Valid Loss:  0.049 | Valid Accuracy:  0.841 | Valid Precision:  0.882 | Valid Recall:  0.652\n"
     ]
    },
    {
     "name": "stderr",
     "output_type": "stream",
     "text": [
      "100%|██████████████████████████████████████████████████████████████████████████████████| 15/15 [07:12<00:00, 28.85s/it]\n"
     ]
    },
    {
     "name": "stdout",
     "output_type": "stream",
     "text": [
      "Epochs: 7 | Train Loss:  0.036 | Train Accuracy:  0.864 | Train Precision:  0.894 | Train Recall:  0.737\n",
      "Epochs: 7 | Valid Loss:  0.048 | Valid Accuracy:  0.841 | Valid Precision:  0.842 | Valid Recall:  0.696\n"
     ]
    },
    {
     "name": "stderr",
     "output_type": "stream",
     "text": [
      "100%|██████████████████████████████████████████████████████████████████████████████████| 15/15 [07:04<00:00, 28.29s/it]\n"
     ]
    },
    {
     "name": "stdout",
     "output_type": "stream",
     "text": [
      "Epochs: 8 | Train Loss:  0.033 | Train Accuracy:  0.878 | Train Precision:  0.915 | Train Recall:  0.754\n",
      "Epochs: 8 | Valid Loss:  0.052 | Valid Accuracy:  0.841 | Valid Precision:  0.882 | Valid Recall:  0.652\n"
     ]
    },
    {
     "name": "stderr",
     "output_type": "stream",
     "text": [
      "100%|██████████████████████████████████████████████████████████████████████████████████| 15/15 [06:59<00:00, 27.97s/it]\n"
     ]
    },
    {
     "name": "stdout",
     "output_type": "stream",
     "text": [
      "Epochs: 9 | Train Loss:  0.033 | Train Accuracy:  0.891 | Train Precision:  0.936 | Train Recall:  0.772\n",
      "Epochs: 9 | Valid Loss:  0.049 | Valid Accuracy:  0.841 | Valid Precision:  0.882 | Valid Recall:  0.652\n"
     ]
    },
    {
     "name": "stderr",
     "output_type": "stream",
     "text": [
      "100%|██████████████████████████████████████████████████████████████████████████████████| 15/15 [07:39<00:00, 30.64s/it]\n"
     ]
    },
    {
     "name": "stdout",
     "output_type": "stream",
     "text": [
      "Epochs: 10 | Train Loss:  0.032 | Train Accuracy:  0.891 | Train Precision:  0.936 | Train Recall:  0.772\n",
      "Epochs: 10 | Valid Loss:  0.047 | Valid Accuracy:  0.825 | Valid Precision:  0.833 | Valid Recall:  0.652\n"
     ]
    }
   ],
   "source": [
    "## Fine Tune the old bert using new data\n",
    "\n",
    "model_10 = BertClassifier()\n",
    "model_10.load_state_dict(torch.load(\"model_10.pt\", map_location=device))\n",
    "\n",
    "EPOCHS = 10\n",
    "LR = 1e-6\n",
    "\n",
    "train(model_10, df_data_train_train, df_data_train_val, LR, EPOCHS)"
   ]
  },
  {
   "cell_type": "code",
   "execution_count": 18,
   "id": "0eaaf94c",
   "metadata": {
    "scrolled": true
   },
   "outputs": [
    {
     "name": "stdout",
     "output_type": "stream",
     "text": [
      "Test Accuracy:  0.778\n",
      "Test Precision:  0.688\n",
      "Test Recall:  0.423\n"
     ]
    },
    {
     "data": {
      "text/plain": [
       "[tensor([0.0908, 0.0689]),\n",
       " tensor([0.9274, 0.1219]),\n",
       " tensor([0.0816, 0.8519]),\n",
       " tensor([0.6288, 0.0935]),\n",
       " tensor([0.9747, 0.2040]),\n",
       " tensor([0.9022, 0.1536]),\n",
       " tensor([0.1414, 0.9445]),\n",
       " tensor([0.0956, 0.0775]),\n",
       " tensor([0.1451, 0.1783]),\n",
       " tensor([0.0930, 0.1340]),\n",
       " tensor([0.0840, 0.0893]),\n",
       " tensor([0.8459, 0.0827]),\n",
       " tensor([0.0974, 0.1912]),\n",
       " tensor([0.1157, 0.1353]),\n",
       " tensor([0.1814, 0.1645]),\n",
       " tensor([0.1114, 0.0471]),\n",
       " tensor([0.4069, 0.1608]),\n",
       " tensor([0.5322, 0.9803]),\n",
       " tensor([0.5279, 0.1378]),\n",
       " tensor([0.1891, 0.2213]),\n",
       " tensor([0.1493, 0.1096]),\n",
       " tensor([0.1453, 0.9078]),\n",
       " tensor([0.1059, 0.9610]),\n",
       " tensor([0.2236, 0.1142]),\n",
       " tensor([0.9418, 0.1362]),\n",
       " tensor([0.1290, 0.2116]),\n",
       " tensor([0.2305, 0.2697]),\n",
       " tensor([0.1936, 0.1797]),\n",
       " tensor([0.1731, 0.1505]),\n",
       " tensor([0.1337, 0.2676]),\n",
       " tensor([0.1500, 0.0864]),\n",
       " tensor([0.3246, 0.3097]),\n",
       " tensor([0.0862, 0.0589]),\n",
       " tensor([0.2266, 0.0778]),\n",
       " tensor([0.0801, 0.3262]),\n",
       " tensor([0.9481, 0.2108]),\n",
       " tensor([0.5837, 0.1777]),\n",
       " tensor([0.0756, 0.2320]),\n",
       " tensor([0.0728, 0.1121]),\n",
       " tensor([0.1058, 0.3448]),\n",
       " tensor([0.1293, 0.9312]),\n",
       " tensor([0.2471, 0.1921]),\n",
       " tensor([0.0916, 0.0622]),\n",
       " tensor([0.1236, 0.1671]),\n",
       " tensor([0.3427, 0.1444])]"
      ]
     },
     "execution_count": 18,
     "metadata": {},
     "output_type": "execute_result"
    }
   ],
   "source": [
    "evaluate(model_10, df_data_test)"
   ]
  }
 ],
 "metadata": {
  "kernelspec": {
   "display_name": "Python 3 (ipykernel)",
   "language": "python",
   "name": "python3"
  },
  "language_info": {
   "codemirror_mode": {
    "name": "ipython",
    "version": 3
   },
   "file_extension": ".py",
   "mimetype": "text/x-python",
   "name": "python",
   "nbconvert_exporter": "python",
   "pygments_lexer": "ipython3",
   "version": "3.8.8"
  }
 },
 "nbformat": 4,
 "nbformat_minor": 5
}
