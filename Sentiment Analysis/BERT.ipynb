{
 "cells": [
  {
   "cell_type": "code",
   "execution_count": 1,
   "id": "017a5ae6",
   "metadata": {},
   "outputs": [],
   "source": [
    "import numpy as np\n",
    "import pandas as pd"
   ]
  },
  {
   "cell_type": "code",
   "execution_count": 2,
   "id": "1a36c033",
   "metadata": {},
   "outputs": [],
   "source": [
    "handcoded = pd.read_csv(\"handcoded.csv\")"
   ]
  },
  {
   "cell_type": "code",
   "execution_count": 3,
   "id": "fa4c627f",
   "metadata": {},
   "outputs": [],
   "source": [
    "data0 = pd.read_csv(\"fullweibo_1011.csv\")"
   ]
  },
  {
   "cell_type": "code",
   "execution_count": 4,
   "id": "1f641a92",
   "metadata": {},
   "outputs": [],
   "source": [
    "joined_data = handcoded.merge(data0[[\"weibo_id\", \"content_cleaned\"]], on='weibo_id', how='left')\n",
    "handcoded1=joined_data[[\"weibo_id\",\"content\",\"content_cleaned\",\"Labeled\"]]"
   ]
  },
  {
   "cell_type": "code",
   "execution_count": 5,
   "id": "78f144ce",
   "metadata": {},
   "outputs": [],
   "source": [
    "handcoded1.to_csv(\"handcoded1.csv\", encoding=\"utf-8-sig\", index= False)"
   ]
  },
  {
   "cell_type": "code",
   "execution_count": 6,
   "id": "2541a30b",
   "metadata": {},
   "outputs": [
    {
     "name": "stderr",
     "output_type": "stream",
     "text": [
      "C:\\Users\\10292\\anaconda3\\lib\\site-packages\\tqdm\\auto.py:21: TqdmWarning: IProgress not found. Please update jupyter and ipywidgets. See https://ipywidgets.readthedocs.io/en/stable/user_install.html\n",
      "  from .autonotebook import tqdm as notebook_tqdm\n"
     ]
    }
   ],
   "source": [
    "from tqdm import tqdm\n",
    "from transformers import BertTokenizer, BertModel\n",
    "from torch._C import *\n",
    "import torch\n",
    "from torch import nn\n",
    "from torch.optim import Adam"
   ]
  },
  {
   "cell_type": "code",
   "execution_count": 7,
   "id": "4192d79a",
   "metadata": {},
   "outputs": [],
   "source": [
    "tokenizer = BertTokenizer.from_pretrained('bert-base-cased')\n",
    "\n",
    "class Dataset(torch.utils.data.Dataset):\n",
    "    def __init__(self, df):\n",
    "        self.labels = df['Labeled'].tolist()\n",
    "        self.texts = [tokenizer(text, padding='max_length', max_length = 512, truncation=True,\n",
    "                                return_tensors=\"pt\") for text in df['content_cleaned']]\n",
    "\n",
    "    def classes(self):\n",
    "        return self.labels\n",
    "\n",
    "    def __len__(self):\n",
    "        return len(self.labels)\n",
    "\n",
    "    def get_batch_labels(self, idx):\n",
    "        return np.array(self.labels[idx])\n",
    "\n",
    "    def get_batch_texts(self, idx):\n",
    "        return self.texts[idx]\n",
    "\n",
    "    def __getitem__(self, idx):\n",
    "        batch_texts = self.get_batch_texts(idx)\n",
    "        batch_y = self.get_batch_labels(idx)\n",
    "\n",
    "        return batch_texts, batch_y\n",
    "\n",
    "class BertClassifier(nn.Module):\n",
    "    def __init__(self, dropout=0.5):\n",
    "        super(BertClassifier, self).__init__()\n",
    "        self.bert = BertModel.from_pretrained('bert-base-cased')\n",
    "        self.dropout = nn.Dropout(dropout)\n",
    "        self.linear = nn.Linear(768, 1)\n",
    "        self.sigmoid = nn.Sigmoid()\n",
    "\n",
    "    def forward(self, input_id, mask):\n",
    "        _, pooled_output = self.bert(input_ids=input_id, attention_mask=mask, return_dict=False)\n",
    "        dropout_output = self.dropout(pooled_output)\n",
    "        linear_output = self.linear(dropout_output)\n",
    "        final_layer = self.sigmoid(linear_output)\n",
    "\n",
    "        return final_layer\n",
    "\n",
    "def train(model, train_data, val_data, learning_rate, epochs):\n",
    "    train, val = Dataset(train_data), Dataset(val_data)\n",
    "\n",
    "    train_dataloader = torch.utils.data.DataLoader(train, batch_size=10, shuffle=True)\n",
    "    val_dataloader = torch.utils.data.DataLoader(val, batch_size=10)\n",
    "\n",
    "    use_cuda = torch.cuda.is_available()\n",
    "    device = torch.device(\"cuda\" if use_cuda else \"cpu\")\n",
    "\n",
    "    criterion = nn.BCELoss()\n",
    "    optimizer = Adam(model.parameters(), lr=learning_rate)\n",
    "\n",
    "    if use_cuda:\n",
    "            model = model.cuda()\n",
    "            criterion = criterion.cuda()\n",
    "\n",
    "    for epoch_num in range(epochs):\n",
    "            total_acc_train = 0\n",
    "            total_loss_train = 0   \n",
    "            total_pre_rec_train = 0\n",
    "            total_pre_train = 0\n",
    "            total_rec_train = 0\n",
    "            for train_input, train_label in tqdm(train_dataloader):\n",
    "                train_label = train_label.to(device)\n",
    "                mask = train_input['attention_mask'].to(device)\n",
    "                input_id = train_input['input_ids'].squeeze(1).to(device)\n",
    "\n",
    "                output = model(input_id, mask)[:, 0]\n",
    "\n",
    "                batch_loss = criterion(output, train_label.float())\n",
    "                total_loss_train += batch_loss.item()\n",
    "\n",
    "                output_label = torch.round(output)\n",
    "                acc = (output_label == train_label).sum()\n",
    "                total_acc_train += acc\n",
    "\n",
    "                total_pre_rec_train += ((output_label == 1) & (train_label == 1)).sum()\n",
    "                total_pre_train += output_label.sum()\n",
    "                total_rec_train += train_label.sum()\n",
    "\n",
    "                model.zero_grad()\n",
    "                batch_loss.backward()\n",
    "                optimizer.step()\n",
    "\n",
    "            total_acc_val = 0\n",
    "            total_loss_val = 0\n",
    "            total_pre_rec_val = 0\n",
    "            total_pre_val = 0\n",
    "            total_rec_val = 0\n",
    "            with torch.no_grad():\n",
    "                for val_input, val_label in val_dataloader:\n",
    "                    val_label = val_label.to(device)\n",
    "                    mask = val_input['attention_mask'].to(device)\n",
    "                    input_id = val_input['input_ids'].squeeze(1).to(device)\n",
    "\n",
    "                    output = model(input_id, mask)[:, 0]\n",
    "\n",
    "                    batch_loss = criterion(output, val_label.float())\n",
    "                    total_loss_val += batch_loss.item()\n",
    "\n",
    "                    output_label = torch.round(output)\n",
    "                    acc = (output_label == val_label).sum()\n",
    "                    total_acc_val += acc\n",
    "\n",
    "                    total_pre_rec_val += ((output_label == 1) & (val_label == 1)).sum()\n",
    "                    total_pre_val += output_label.sum()\n",
    "                    total_rec_val += val_label.sum()\n",
    "\n",
    "            print(f'Epochs: {epoch_num + 1} | Train Loss: {total_loss_train / len(train_data): .3f} | Train Accuracy: {total_acc_train / len(train_data): .3f} | Train Precision: {total_pre_rec_train / total_pre_train: .3f} | Train Recall: {total_pre_rec_train / total_rec_train: .3f}')\n",
    "            print(f'Epochs: {epoch_num + 1} | Valid Loss: {total_loss_val / len(val_data): .3f} | Valid Accuracy: {total_acc_val / len(val_data): .3f} | Valid Precision: {total_pre_rec_val / total_pre_val: .3f} | Valid Recall: {total_pre_rec_val / total_rec_val: .3f}')\n",
    "            \n",
    "            torch.save(model.state_dict(), \"models/model_%d.pt\" % (epoch_num + 1))\n",
    "\n",
    "def evaluate(model, test_data):\n",
    "    test = Dataset(test_data)\n",
    "\n",
    "    test_dataloader = torch.utils.data.DataLoader(test, batch_size=2)\n",
    "\n",
    "    use_cuda = torch.cuda.is_available()\n",
    "    device = torch.device(\"cuda\" if use_cuda else \"cpu\")\n",
    "\n",
    "    if use_cuda:\n",
    "        model = model.cuda()\n",
    "    \n",
    "    answer = []\n",
    "    total_acc_test = 0\n",
    "    total_pre_rec_test = 0\n",
    "    total_pre_test = 0\n",
    "    total_rec_test = 0\n",
    "    with torch.no_grad():\n",
    "        for test_input, test_label in test_dataloader:\n",
    "            test_label = test_label.to(device)\n",
    "            mask = test_input['attention_mask'].to(device)\n",
    "            input_id = test_input['input_ids'].squeeze(1).to(device)\n",
    "\n",
    "            output = model(input_id, mask)[:, 0]\n",
    "            answer.append(output)\n",
    "\n",
    "            output_label = torch.round(output)\n",
    "            acc = (output_label == test_label).sum()\n",
    "            total_acc_test += acc\n",
    "\n",
    "            total_pre_rec_test += ((output_label == 1) & (test_label == 1)).sum()\n",
    "            total_pre_test += output_label.sum()\n",
    "            total_rec_test += test_label.sum()\n",
    "\n",
    "    print(f'Test Accuracy: {total_acc_test / len(test_data): .3f}')\n",
    "    print(f'Test Precision: {total_pre_rec_test / total_pre_test: .3f}')\n",
    "    print(f'Test Recall: {total_pre_rec_test / total_rec_test: .3f}')\n",
    "\n",
    "    return answer\n",
    "\n",
    "def predict(model, test_data):\n",
    "    test = Dataset(test_data)\n",
    "\n",
    "    test_dataloader = torch.utils.data.DataLoader(test, batch_size=2)\n",
    "\n",
    "    use_cuda = torch.cuda.is_available()\n",
    "    device = torch.device(\"cuda\" if use_cuda else \"cpu\")\n",
    "\n",
    "    if use_cuda:\n",
    "        model = model.cuda()\n",
    "    \n",
    "    answer = []\n",
    "    \n",
    "\n",
    "    with torch.no_grad():\n",
    "        a=0\n",
    "        for test_input, test_label in test_dataloader:\n",
    "            mask = test_input['attention_mask'].to(device)\n",
    "            input_id = test_input['input_ids'].squeeze(1).to(device)\n",
    "\n",
    "            output = model(input_id, mask)[:, 0]\n",
    "            answer.append(output)\n",
    "            if (a%50==0):\n",
    "                print(f'labelled {a*2} comments')\n",
    "            a+=1\n",
    "            \n",
    "\n",
    "    return answer"
   ]
  },
  {
   "cell_type": "code",
   "execution_count": 8,
   "id": "a4302826",
   "metadata": {},
   "outputs": [],
   "source": [
    "handcoded1[\"content_cleaned\"] = handcoded1[\"content_cleaned\"].astype(str)\n"
   ]
  },
  {
   "cell_type": "code",
   "execution_count": 9,
   "id": "da735efb",
   "metadata": {},
   "outputs": [],
   "source": [
    "from sklearn.model_selection import train_test_split"
   ]
  },
  {
   "cell_type": "code",
   "execution_count": 12,
   "id": "e70b8312",
   "metadata": {},
   "outputs": [],
   "source": [
    "df_data_train, df_data_test = train_test_split(\n",
    "    handcoded1[[\"Labeled\", \"content_cleaned\"]], test_size=0.3, random_state=1027)\n",
    "\n",
    "df_data_train_train, df_data_train_val = np.split(df_data_train, [int(0.7*len(df_data_train))])"
   ]
  },
  {
   "cell_type": "code",
   "execution_count": 14,
   "id": "87a7736c",
   "metadata": {},
   "outputs": [],
   "source": [
    "device = torch.device('cpu')"
   ]
  },
  {
   "cell_type": "code",
   "execution_count": 16,
   "id": "bb470ee1",
   "metadata": {
    "scrolled": false
   },
   "outputs": [
    {
     "name": "stderr",
     "output_type": "stream",
     "text": [
      "Some weights of the model checkpoint at bert-base-cased were not used when initializing BertModel: ['cls.predictions.transform.LayerNorm.weight', 'cls.predictions.transform.LayerNorm.bias', 'cls.predictions.decoder.weight', 'cls.predictions.bias', 'cls.seq_relationship.bias', 'cls.seq_relationship.weight', 'cls.predictions.transform.dense.bias', 'cls.predictions.transform.dense.weight']\n",
      "- This IS expected if you are initializing BertModel from the checkpoint of a model trained on another task or with another architecture (e.g. initializing a BertForSequenceClassification model from a BertForPreTraining model).\n",
      "- This IS NOT expected if you are initializing BertModel from the checkpoint of a model that you expect to be exactly identical (initializing a BertForSequenceClassification model from a BertForSequenceClassification model).\n",
      "100%|██████████████████████████████████████████████████████████████████████████████████| 15/15 [07:09<00:00, 28.65s/it]\n"
     ]
    },
    {
     "name": "stdout",
     "output_type": "stream",
     "text": [
      "Epochs: 1 | Train Loss:  0.060 | Train Accuracy:  0.782 | Train Precision:  0.857 | Train Recall:  0.526\n",
      "Epochs: 1 | Valid Loss:  0.054 | Valid Accuracy:  0.825 | Valid Precision:  0.800 | Valid Recall:  0.696\n"
     ]
    },
    {
     "name": "stderr",
     "output_type": "stream",
     "text": [
      "100%|██████████████████████████████████████████████████████████████████████████████████| 15/15 [07:08<00:00, 28.54s/it]\n"
     ]
    },
    {
     "name": "stdout",
     "output_type": "stream",
     "text": [
      "Epochs: 2 | Train Loss:  0.047 | Train Accuracy:  0.830 | Train Precision:  0.833 | Train Recall:  0.702\n",
      "Epochs: 2 | Valid Loss:  0.052 | Valid Accuracy:  0.841 | Valid Precision:  0.882 | Valid Recall:  0.652\n"
     ]
    },
    {
     "name": "stderr",
     "output_type": "stream",
     "text": [
      "100%|██████████████████████████████████████████████████████████████████████████████████| 15/15 [07:39<00:00, 30.66s/it]\n"
     ]
    },
    {
     "name": "stdout",
     "output_type": "stream",
     "text": [
      "Epochs: 3 | Train Loss:  0.042 | Train Accuracy:  0.823 | Train Precision:  0.844 | Train Recall:  0.667\n",
      "Epochs: 3 | Valid Loss:  0.053 | Valid Accuracy:  0.825 | Valid Precision:  0.875 | Valid Recall:  0.609\n"
     ]
    },
    {
     "name": "stderr",
     "output_type": "stream",
     "text": [
      "100%|██████████████████████████████████████████████████████████████████████████████████| 15/15 [07:10<00:00, 28.71s/it]\n"
     ]
    },
    {
     "name": "stdout",
     "output_type": "stream",
     "text": [
      "Epochs: 4 | Train Loss:  0.040 | Train Accuracy:  0.850 | Train Precision:  0.872 | Train Recall:  0.719\n",
      "Epochs: 4 | Valid Loss:  0.048 | Valid Accuracy:  0.857 | Valid Precision:  0.889 | Valid Recall:  0.696\n"
     ]
    },
    {
     "name": "stderr",
     "output_type": "stream",
     "text": [
      "100%|██████████████████████████████████████████████████████████████████████████████████| 15/15 [07:18<00:00, 29.25s/it]\n"
     ]
    },
    {
     "name": "stdout",
     "output_type": "stream",
     "text": [
      "Epochs: 5 | Train Loss:  0.039 | Train Accuracy:  0.850 | Train Precision:  0.857 | Train Recall:  0.737\n",
      "Epochs: 5 | Valid Loss:  0.047 | Valid Accuracy:  0.825 | Valid Precision:  0.833 | Valid Recall:  0.652\n"
     ]
    },
    {
     "name": "stderr",
     "output_type": "stream",
     "text": [
      "100%|██████████████████████████████████████████████████████████████████████████████████| 15/15 [07:57<00:00, 31.86s/it]\n"
     ]
    },
    {
     "name": "stdout",
     "output_type": "stream",
     "text": [
      "Epochs: 6 | Train Loss:  0.036 | Train Accuracy:  0.857 | Train Precision:  0.860 | Train Recall:  0.754\n",
      "Epochs: 6 | Valid Loss:  0.049 | Valid Accuracy:  0.841 | Valid Precision:  0.882 | Valid Recall:  0.652\n"
     ]
    },
    {
     "name": "stderr",
     "output_type": "stream",
     "text": [
      "100%|██████████████████████████████████████████████████████████████████████████████████| 15/15 [07:12<00:00, 28.85s/it]\n"
     ]
    },
    {
     "name": "stdout",
     "output_type": "stream",
     "text": [
      "Epochs: 7 | Train Loss:  0.036 | Train Accuracy:  0.864 | Train Precision:  0.894 | Train Recall:  0.737\n",
      "Epochs: 7 | Valid Loss:  0.048 | Valid Accuracy:  0.841 | Valid Precision:  0.842 | Valid Recall:  0.696\n"
     ]
    },
    {
     "name": "stderr",
     "output_type": "stream",
     "text": [
      "100%|██████████████████████████████████████████████████████████████████████████████████| 15/15 [07:04<00:00, 28.29s/it]\n"
     ]
    },
    {
     "name": "stdout",
     "output_type": "stream",
     "text": [
      "Epochs: 8 | Train Loss:  0.033 | Train Accuracy:  0.878 | Train Precision:  0.915 | Train Recall:  0.754\n",
      "Epochs: 8 | Valid Loss:  0.052 | Valid Accuracy:  0.841 | Valid Precision:  0.882 | Valid Recall:  0.652\n"
     ]
    },
    {
     "name": "stderr",
     "output_type": "stream",
     "text": [
      "100%|██████████████████████████████████████████████████████████████████████████████████| 15/15 [06:59<00:00, 27.97s/it]\n"
     ]
    },
    {
     "name": "stdout",
     "output_type": "stream",
     "text": [
      "Epochs: 9 | Train Loss:  0.033 | Train Accuracy:  0.891 | Train Precision:  0.936 | Train Recall:  0.772\n",
      "Epochs: 9 | Valid Loss:  0.049 | Valid Accuracy:  0.841 | Valid Precision:  0.882 | Valid Recall:  0.652\n"
     ]
    },
    {
     "name": "stderr",
     "output_type": "stream",
     "text": [
      "100%|██████████████████████████████████████████████████████████████████████████████████| 15/15 [07:39<00:00, 30.64s/it]\n"
     ]
    },
    {
     "name": "stdout",
     "output_type": "stream",
     "text": [
      "Epochs: 10 | Train Loss:  0.032 | Train Accuracy:  0.891 | Train Precision:  0.936 | Train Recall:  0.772\n",
      "Epochs: 10 | Valid Loss:  0.047 | Valid Accuracy:  0.825 | Valid Precision:  0.833 | Valid Recall:  0.652\n"
     ]
    }
   ],
   "source": [
    "## Fine Tune the old bert using new data\n",
    "\n",
    "model_10 = BertClassifier()\n",
    "model_10.load_state_dict(torch.load(\"model_10.pt\", map_location=device))\n",
    "\n",
    "EPOCHS = 10\n",
    "LR = 1e-6\n",
    "\n",
    "train(model_10, df_data_train_train, df_data_train_val, LR, EPOCHS)"
   ]
  },
  {
   "cell_type": "code",
   "execution_count": 18,
   "id": "0eaaf94c",
   "metadata": {
    "scrolled": true
   },
   "outputs": [
    {
     "name": "stdout",
     "output_type": "stream",
     "text": [
      "Test Accuracy:  0.778\n",
      "Test Precision:  0.688\n",
      "Test Recall:  0.423\n"
     ]
    },
    {
     "data": {
      "text/plain": [
       "[tensor([0.0908, 0.0689]),\n",
       " tensor([0.9274, 0.1219]),\n",
       " tensor([0.0816, 0.8519]),\n",
       " tensor([0.6288, 0.0935]),\n",
       " tensor([0.9747, 0.2040]),\n",
       " tensor([0.9022, 0.1536]),\n",
       " tensor([0.1414, 0.9445]),\n",
       " tensor([0.0956, 0.0775]),\n",
       " tensor([0.1451, 0.1783]),\n",
       " tensor([0.0930, 0.1340]),\n",
       " tensor([0.0840, 0.0893]),\n",
       " tensor([0.8459, 0.0827]),\n",
       " tensor([0.0974, 0.1912]),\n",
       " tensor([0.1157, 0.1353]),\n",
       " tensor([0.1814, 0.1645]),\n",
       " tensor([0.1114, 0.0471]),\n",
       " tensor([0.4069, 0.1608]),\n",
       " tensor([0.5322, 0.9803]),\n",
       " tensor([0.5279, 0.1378]),\n",
       " tensor([0.1891, 0.2213]),\n",
       " tensor([0.1493, 0.1096]),\n",
       " tensor([0.1453, 0.9078]),\n",
       " tensor([0.1059, 0.9610]),\n",
       " tensor([0.2236, 0.1142]),\n",
       " tensor([0.9418, 0.1362]),\n",
       " tensor([0.1290, 0.2116]),\n",
       " tensor([0.2305, 0.2697]),\n",
       " tensor([0.1936, 0.1797]),\n",
       " tensor([0.1731, 0.1505]),\n",
       " tensor([0.1337, 0.2676]),\n",
       " tensor([0.1500, 0.0864]),\n",
       " tensor([0.3246, 0.3097]),\n",
       " tensor([0.0862, 0.0589]),\n",
       " tensor([0.2266, 0.0778]),\n",
       " tensor([0.0801, 0.3262]),\n",
       " tensor([0.9481, 0.2108]),\n",
       " tensor([0.5837, 0.1777]),\n",
       " tensor([0.0756, 0.2320]),\n",
       " tensor([0.0728, 0.1121]),\n",
       " tensor([0.1058, 0.3448]),\n",
       " tensor([0.1293, 0.9312]),\n",
       " tensor([0.2471, 0.1921]),\n",
       " tensor([0.0916, 0.0622]),\n",
       " tensor([0.1236, 0.1671]),\n",
       " tensor([0.3427, 0.1444])]"
      ]
     },
     "execution_count": 18,
     "metadata": {},
     "output_type": "execute_result"
    }
   ],
   "source": [
    "evaluate(model_10, df_data_test)"
   ]
  },
  {
   "cell_type": "code",
   "execution_count": 19,
   "id": "b5c278ed",
   "metadata": {},
   "outputs": [
    {
     "name": "stderr",
     "output_type": "stream",
     "text": [
      "Some weights of the model checkpoint at bert-base-cased were not used when initializing BertModel: ['cls.predictions.transform.LayerNorm.weight', 'cls.predictions.transform.LayerNorm.bias', 'cls.predictions.decoder.weight', 'cls.predictions.bias', 'cls.seq_relationship.bias', 'cls.seq_relationship.weight', 'cls.predictions.transform.dense.bias', 'cls.predictions.transform.dense.weight']\n",
      "- This IS expected if you are initializing BertModel from the checkpoint of a model trained on another task or with another architecture (e.g. initializing a BertForSequenceClassification model from a BertForPreTraining model).\n",
      "- This IS NOT expected if you are initializing BertModel from the checkpoint of a model that you expect to be exactly identical (initializing a BertForSequenceClassification model from a BertForSequenceClassification model).\n"
     ]
    },
    {
     "name": "stdout",
     "output_type": "stream",
     "text": [
      "Test Accuracy:  0.767\n",
      "Test Precision:  0.667\n",
      "Test Recall:  0.385\n"
     ]
    },
    {
     "data": {
      "text/plain": [
       "[tensor([0.1734, 0.1486]),\n",
       " tensor([0.8860, 0.2517]),\n",
       " tensor([0.1131, 0.7243]),\n",
       " tensor([0.6767, 0.1544]),\n",
       " tensor([0.9544, 0.1218]),\n",
       " tensor([0.8980, 0.3667]),\n",
       " tensor([0.2461, 0.9214]),\n",
       " tensor([0.1810, 0.1267]),\n",
       " tensor([0.1399, 0.1486]),\n",
       " tensor([0.0942, 0.1152]),\n",
       " tensor([0.1193, 0.0883]),\n",
       " tensor([0.9369, 0.0775]),\n",
       " tensor([0.1854, 0.1152]),\n",
       " tensor([0.1087, 0.1949]),\n",
       " tensor([0.1608, 0.0925]),\n",
       " tensor([0.1537, 0.2201]),\n",
       " tensor([0.1782, 0.1228]),\n",
       " tensor([0.6583, 0.9546]),\n",
       " tensor([0.4861, 0.0848]),\n",
       " tensor([0.1127, 0.0639]),\n",
       " tensor([0.1972, 0.1856]),\n",
       " tensor([0.2083, 0.8777]),\n",
       " tensor([0.1178, 0.9537]),\n",
       " tensor([0.1842, 0.1006]),\n",
       " tensor([0.9308, 0.1073]),\n",
       " tensor([0.1030, 0.1399]),\n",
       " tensor([0.2167, 0.1483]),\n",
       " tensor([0.1748, 0.2287]),\n",
       " tensor([0.1277, 0.0983]),\n",
       " tensor([0.1464, 0.1707]),\n",
       " tensor([0.1612, 0.0956]),\n",
       " tensor([0.2283, 0.2120]),\n",
       " tensor([0.0697, 0.0883]),\n",
       " tensor([0.1648, 0.1096]),\n",
       " tensor([0.1030, 0.1941]),\n",
       " tensor([0.9524, 0.0625]),\n",
       " tensor([0.6927, 0.1494]),\n",
       " tensor([0.2035, 0.1016]),\n",
       " tensor([0.0884, 0.1468]),\n",
       " tensor([0.1247, 0.2122]),\n",
       " tensor([0.2744, 0.8335]),\n",
       " tensor([0.3491, 0.2533]),\n",
       " tensor([0.0835, 0.0810]),\n",
       " tensor([0.1391, 0.1531]),\n",
       " tensor([0.1919, 0.0952])]"
      ]
     },
     "execution_count": 19,
     "metadata": {},
     "output_type": "execute_result"
    }
   ],
   "source": [
    "# Test middle epoch model\n",
    "\n",
    "model_t = BertClassifier()\n",
    "model_t.load_state_dict(torch.load(\"models/model_4.pt\", map_location=device))\n",
    "evaluate(model_t, df_data_test)"
   ]
  },
  {
   "cell_type": "code",
   "execution_count": 20,
   "id": "2aaed77c",
   "metadata": {},
   "outputs": [
    {
     "data": {
      "text/html": [
       "<div>\n",
       "<style scoped>\n",
       "    .dataframe tbody tr th:only-of-type {\n",
       "        vertical-align: middle;\n",
       "    }\n",
       "\n",
       "    .dataframe tbody tr th {\n",
       "        vertical-align: top;\n",
       "    }\n",
       "\n",
       "    .dataframe thead th {\n",
       "        text-align: right;\n",
       "    }\n",
       "</style>\n",
       "<table border=\"1\" class=\"dataframe\">\n",
       "  <thead>\n",
       "    <tr style=\"text-align: right;\">\n",
       "      <th></th>\n",
       "      <th>weibo_id</th>\n",
       "      <th>content</th>\n",
       "      <th>content_cleaned</th>\n",
       "      <th>Labeled</th>\n",
       "    </tr>\n",
       "  </thead>\n",
       "  <tbody>\n",
       "    <tr>\n",
       "      <th>0</th>\n",
       "      <td>LhozEkDqZ</td>\n",
       "      <td>肉丝说，女人的内心就像深邃的海洋…多久可以忘掉一个人？大概需要用一生 ?原图?</td>\n",
       "      <td>肉丝 说 女人 的 内心 就 像 深邃 的 海洋 多久 可以 忘掉 一个 人 大概 需要 用...</td>\n",
       "      <td>0</td>\n",
       "    </tr>\n",
       "    <tr>\n",
       "      <th>1</th>\n",
       "      <td>LhADbodWL</td>\n",
       "      <td>#美国将向乌克兰运送防空导弹#面对着美国鼓吹战争，继续怂恿着双方扩大战争规模，@北京大学 王...</td>\n",
       "      <td>美国 将 向 乌克兰 运送 防空 导弹 面对 着 美国 鼓吹 战争 继续 怂恿 着 双方 扩...</td>\n",
       "      <td>1</td>\n",
       "    </tr>\n",
       "    <tr>\n",
       "      <th>2</th>\n",
       "      <td>LlXjeAacG</td>\n",
       "      <td>今天网红的水军，明显多了起来  赞[1768] 原文转发[23] 原文评论[162]转发理由...</td>\n",
       "      <td>今天 网红 的 水军 明显 多 了 起来 赞 1768 原文 转发 23 原文 评论 162...</td>\n",
       "      <td>1</td>\n",
       "    </tr>\n",
       "    <tr>\n",
       "      <th>3</th>\n",
       "      <td>Li7i9fhtw</td>\n",
       "      <td>#一起登月# 时尚博主「暴躁小七」摩登演绎黑色Icon Glance雪地靴，为早春注入前卫学...</td>\n",
       "      <td>一起 登 月 时尚 博主 暴躁 小七 摩登 演绎 黑色 Icon Glance 雪地 靴 为...</td>\n",
       "      <td>0</td>\n",
       "    </tr>\n",
       "    <tr>\n",
       "      <th>4</th>\n",
       "      <td>Lm8mkFSDA</td>\n",
       "      <td>比如要做用户中心一上来就说我要做活动中心，要做积分商城，要做导流宣传，要做banner营销，...</td>\n",
       "      <td>比如 要 做 用户 中心 一 上来 就 说 我 要 做 活动 中心 要 做 积分 商城 要 ...</td>\n",
       "      <td>0</td>\n",
       "    </tr>\n",
       "    <tr>\n",
       "      <th>...</th>\n",
       "      <td>...</td>\n",
       "      <td>...</td>\n",
       "      <td>...</td>\n",
       "      <td>...</td>\n",
       "    </tr>\n",
       "    <tr>\n",
       "      <th>295</th>\n",
       "      <td>LnMmR2dx5</td>\n",
       "      <td>台湾超商店员偷吃两颗茶叶蛋，被判刑三个月！茶叶蛋真的很金贵滴，大陆人吃不起，没想到台湾人也吃...</td>\n",
       "      <td>台湾 超商 店员 偷吃 两 颗 茶叶蛋 被 判刑 三 个 月 茶叶蛋 真的 很 金贵 滴 大...</td>\n",
       "      <td>1</td>\n",
       "    </tr>\n",
       "    <tr>\n",
       "      <th>296</th>\n",
       "      <td>LqPXr9yA1</td>\n",
       "      <td>我们这里全员核酸，单位里抽调防疫志愿者，本人有幸拿到了大白“体验券”（扫码大白），连体防护服...</td>\n",
       "      <td>我们 这里 全员 核酸 单位 里 抽调 防疫 志愿者 本人 有幸 拿到 了 大白 体验券 扫...</td>\n",
       "      <td>1</td>\n",
       "    </tr>\n",
       "    <tr>\n",
       "      <th>297</th>\n",
       "      <td>Llt9pouWi</td>\n",
       "      <td>塞尔维亚国家虽小，但志气高【#武契奇说永不会忘记北约所做的一切#】当地时间24日，#塞尔维亚...</td>\n",
       "      <td>塞尔维亚 国家 虽 小 但 志气 高 武契奇 说 永不 会 忘记 北约 所 做 的 一切 当...</td>\n",
       "      <td>0</td>\n",
       "    </tr>\n",
       "    <tr>\n",
       "      <th>298</th>\n",
       "      <td>Lp2lf9sAQ</td>\n",
       "      <td>《经济危机与世界王朝的改朝换代》第一部分，讲王朝更替的历史规律。第二部分，讲经济危机的成因及...</td>\n",
       "      <td>经济 危机 与 世界 王朝 的 改朝换代 第一 部分 讲 王朝 更替 的 历史 规律 第二 ...</td>\n",
       "      <td>0</td>\n",
       "    </tr>\n",
       "    <tr>\n",
       "      <th>299</th>\n",
       "      <td>LezyxalMT</td>\n",
       "      <td>【教育部：#今年举办首届中国青少年足球联赛#】在北京时间2月6日晚印度进行的第20届女足亚洲...</td>\n",
       "      <td>教育部 今年 举办 首届 中国 青少年 足球 联赛 在 北京 时间 2月 6日 晚 印度 进...</td>\n",
       "      <td>1</td>\n",
       "    </tr>\n",
       "  </tbody>\n",
       "</table>\n",
       "<p>300 rows × 4 columns</p>\n",
       "</div>"
      ],
      "text/plain": [
       "      weibo_id                                            content  \\\n",
       "0    LhozEkDqZ            肉丝说，女人的内心就像深邃的海洋…多久可以忘掉一个人？大概需要用一生 ?原图?   \n",
       "1    LhADbodWL  #美国将向乌克兰运送防空导弹#面对着美国鼓吹战争，继续怂恿着双方扩大战争规模，@北京大学 王...   \n",
       "2    LlXjeAacG  今天网红的水军，明显多了起来  赞[1768] 原文转发[23] 原文评论[162]转发理由...   \n",
       "3    Li7i9fhtw  #一起登月# 时尚博主「暴躁小七」摩登演绎黑色Icon Glance雪地靴，为早春注入前卫学...   \n",
       "4    Lm8mkFSDA  比如要做用户中心一上来就说我要做活动中心，要做积分商城，要做导流宣传，要做banner营销，...   \n",
       "..         ...                                                ...   \n",
       "295  LnMmR2dx5  台湾超商店员偷吃两颗茶叶蛋，被判刑三个月！茶叶蛋真的很金贵滴，大陆人吃不起，没想到台湾人也吃...   \n",
       "296  LqPXr9yA1  我们这里全员核酸，单位里抽调防疫志愿者，本人有幸拿到了大白“体验券”（扫码大白），连体防护服...   \n",
       "297  Llt9pouWi  塞尔维亚国家虽小，但志气高【#武契奇说永不会忘记北约所做的一切#】当地时间24日，#塞尔维亚...   \n",
       "298  Lp2lf9sAQ  《经济危机与世界王朝的改朝换代》第一部分，讲王朝更替的历史规律。第二部分，讲经济危机的成因及...   \n",
       "299  LezyxalMT  【教育部：#今年举办首届中国青少年足球联赛#】在北京时间2月6日晚印度进行的第20届女足亚洲...   \n",
       "\n",
       "                                       content_cleaned  Labeled  \n",
       "0    肉丝 说 女人 的 内心 就 像 深邃 的 海洋 多久 可以 忘掉 一个 人 大概 需要 用...        0  \n",
       "1    美国 将 向 乌克兰 运送 防空 导弹 面对 着 美国 鼓吹 战争 继续 怂恿 着 双方 扩...        1  \n",
       "2    今天 网红 的 水军 明显 多 了 起来 赞 1768 原文 转发 23 原文 评论 162...        1  \n",
       "3    一起 登 月 时尚 博主 暴躁 小七 摩登 演绎 黑色 Icon Glance 雪地 靴 为...        0  \n",
       "4    比如 要 做 用户 中心 一 上来 就 说 我 要 做 活动 中心 要 做 积分 商城 要 ...        0  \n",
       "..                                                 ...      ...  \n",
       "295  台湾 超商 店员 偷吃 两 颗 茶叶蛋 被 判刑 三 个 月 茶叶蛋 真的 很 金贵 滴 大...        1  \n",
       "296  我们 这里 全员 核酸 单位 里 抽调 防疫 志愿者 本人 有幸 拿到 了 大白 体验券 扫...        1  \n",
       "297  塞尔维亚 国家 虽 小 但 志气 高 武契奇 说 永不 会 忘记 北约 所 做 的 一切 当...        0  \n",
       "298  经济 危机 与 世界 王朝 的 改朝换代 第一 部分 讲 王朝 更替 的 历史 规律 第二 ...        0  \n",
       "299  教育部 今年 举办 首届 中国 青少年 足球 联赛 在 北京 时间 2月 6日 晚 印度 进...        1  \n",
       "\n",
       "[300 rows x 4 columns]"
      ]
     },
     "execution_count": 20,
     "metadata": {},
     "output_type": "execute_result"
    }
   ],
   "source": [
    "handcoded1"
   ]
  },
  {
   "cell_type": "code",
   "execution_count": 24,
   "id": "6105eee9",
   "metadata": {},
   "outputs": [],
   "source": [
    "# Shuffle Handcoded1 to tune again\n",
    "\n",
    "handcoded2 = handcoded1.sample(frac = 1)"
   ]
  },
  {
   "cell_type": "code",
   "execution_count": 25,
   "id": "80002936",
   "metadata": {},
   "outputs": [
    {
     "name": "stderr",
     "output_type": "stream",
     "text": [
      "Some weights of the model checkpoint at bert-base-cased were not used when initializing BertModel: ['cls.predictions.transform.LayerNorm.weight', 'cls.predictions.transform.LayerNorm.bias', 'cls.predictions.decoder.weight', 'cls.predictions.bias', 'cls.seq_relationship.bias', 'cls.seq_relationship.weight', 'cls.predictions.transform.dense.bias', 'cls.predictions.transform.dense.weight']\n",
      "- This IS expected if you are initializing BertModel from the checkpoint of a model trained on another task or with another architecture (e.g. initializing a BertForSequenceClassification model from a BertForPreTraining model).\n",
      "- This IS NOT expected if you are initializing BertModel from the checkpoint of a model that you expect to be exactly identical (initializing a BertForSequenceClassification model from a BertForSequenceClassification model).\n",
      "100%|██████████████████████████████████████████████████████████████████████████████████| 15/15 [07:07<00:00, 28.48s/it]\n"
     ]
    },
    {
     "name": "stdout",
     "output_type": "stream",
     "text": [
      "Epochs: 1 | Train Loss:  0.067 | Train Accuracy:  0.741 | Train Precision:  0.806 | Train Recall:  0.439\n",
      "Epochs: 1 | Valid Loss:  0.043 | Valid Accuracy:  0.873 | Valid Precision:  0.846 | Valid Recall:  0.647\n"
     ]
    },
    {
     "name": "stderr",
     "output_type": "stream",
     "text": [
      "100%|██████████████████████████████████████████████████████████████████████████████████| 15/15 [07:22<00:00, 29.48s/it]\n"
     ]
    },
    {
     "name": "stdout",
     "output_type": "stream",
     "text": [
      "Epochs: 2 | Train Loss:  0.051 | Train Accuracy:  0.796 | Train Precision:  0.765 | Train Recall:  0.684\n",
      "Epochs: 2 | Valid Loss:  0.042 | Valid Accuracy:  0.841 | Valid Precision:  0.733 | Valid Recall:  0.647\n"
     ]
    },
    {
     "name": "stderr",
     "output_type": "stream",
     "text": [
      "100%|██████████████████████████████████████████████████████████████████████████████████| 15/15 [06:53<00:00, 27.53s/it]\n"
     ]
    },
    {
     "name": "stdout",
     "output_type": "stream",
     "text": [
      "Epochs: 3 | Train Loss:  0.049 | Train Accuracy:  0.816 | Train Precision:  0.800 | Train Recall:  0.702\n",
      "Epochs: 3 | Valid Loss:  0.041 | Valid Accuracy:  0.841 | Valid Precision:  0.733 | Valid Recall:  0.647\n"
     ]
    },
    {
     "name": "stderr",
     "output_type": "stream",
     "text": [
      "100%|██████████████████████████████████████████████████████████████████████████████████| 15/15 [07:01<00:00, 28.08s/it]\n"
     ]
    },
    {
     "name": "stdout",
     "output_type": "stream",
     "text": [
      "Epochs: 4 | Train Loss:  0.043 | Train Accuracy:  0.844 | Train Precision:  0.840 | Train Recall:  0.737\n",
      "Epochs: 4 | Valid Loss:  0.040 | Valid Accuracy:  0.841 | Valid Precision:  0.733 | Valid Recall:  0.647\n"
     ]
    },
    {
     "name": "stderr",
     "output_type": "stream",
     "text": [
      "100%|██████████████████████████████████████████████████████████████████████████████████| 15/15 [06:59<00:00, 27.95s/it]\n"
     ]
    },
    {
     "name": "stdout",
     "output_type": "stream",
     "text": [
      "Epochs: 5 | Train Loss:  0.041 | Train Accuracy:  0.837 | Train Precision:  0.824 | Train Recall:  0.737\n",
      "Epochs: 5 | Valid Loss:  0.043 | Valid Accuracy:  0.841 | Valid Precision:  0.706 | Valid Recall:  0.706\n"
     ]
    },
    {
     "name": "stderr",
     "output_type": "stream",
     "text": [
      "100%|██████████████████████████████████████████████████████████████████████████████████| 15/15 [07:06<00:00, 28.45s/it]\n"
     ]
    },
    {
     "name": "stdout",
     "output_type": "stream",
     "text": [
      "Epochs: 6 | Train Loss:  0.041 | Train Accuracy:  0.837 | Train Precision:  0.811 | Train Recall:  0.754\n",
      "Epochs: 6 | Valid Loss:  0.044 | Valid Accuracy:  0.810 | Valid Precision:  0.647 | Valid Recall:  0.647\n"
     ]
    },
    {
     "name": "stderr",
     "output_type": "stream",
     "text": [
      "100%|██████████████████████████████████████████████████████████████████████████████████| 15/15 [07:11<00:00, 28.78s/it]\n"
     ]
    },
    {
     "name": "stdout",
     "output_type": "stream",
     "text": [
      "Epochs: 7 | Train Loss:  0.041 | Train Accuracy:  0.837 | Train Precision:  0.800 | Train Recall:  0.772\n",
      "Epochs: 7 | Valid Loss:  0.039 | Valid Accuracy:  0.841 | Valid Precision:  0.706 | Valid Recall:  0.706\n"
     ]
    },
    {
     "name": "stderr",
     "output_type": "stream",
     "text": [
      "100%|██████████████████████████████████████████████████████████████████████████████████| 15/15 [07:00<00:00, 28.00s/it]\n"
     ]
    },
    {
     "name": "stdout",
     "output_type": "stream",
     "text": [
      "Epochs: 8 | Train Loss:  0.037 | Train Accuracy:  0.844 | Train Precision:  0.815 | Train Recall:  0.772\n",
      "Epochs: 8 | Valid Loss:  0.038 | Valid Accuracy:  0.857 | Valid Precision:  0.750 | Valid Recall:  0.706\n"
     ]
    },
    {
     "name": "stderr",
     "output_type": "stream",
     "text": [
      "100%|██████████████████████████████████████████████████████████████████████████████████| 15/15 [07:29<00:00, 29.96s/it]\n"
     ]
    },
    {
     "name": "stdout",
     "output_type": "stream",
     "text": [
      "Epochs: 9 | Train Loss:  0.036 | Train Accuracy:  0.850 | Train Precision:  0.818 | Train Recall:  0.789\n",
      "Epochs: 9 | Valid Loss:  0.042 | Valid Accuracy:  0.825 | Valid Precision:  0.667 | Valid Recall:  0.706\n"
     ]
    },
    {
     "name": "stderr",
     "output_type": "stream",
     "text": [
      "100%|██████████████████████████████████████████████████████████████████████████████████| 15/15 [07:12<00:00, 28.87s/it]\n"
     ]
    },
    {
     "name": "stdout",
     "output_type": "stream",
     "text": [
      "Epochs: 10 | Train Loss:  0.035 | Train Accuracy:  0.871 | Train Precision:  0.839 | Train Recall:  0.825\n",
      "Epochs: 10 | Valid Loss:  0.037 | Valid Accuracy:  0.841 | Valid Precision:  0.733 | Valid Recall:  0.647\n"
     ]
    }
   ],
   "source": [
    "df_data_train, df_data_test = train_test_split(\n",
    "    handcoded2[[\"Labeled\", \"content_cleaned\"]], test_size=0.3, random_state=1027)\n",
    "\n",
    "df_data_train_train, df_data_train_val = np.split(df_data_train, [int(0.7*len(df_data_train))])\n",
    "\n",
    "## Fine Tune the old bert using new data\n",
    "\n",
    "model_10_s = BertClassifier()\n",
    "model_10_s.load_state_dict(torch.load(\"model_10.pt\", map_location=device))\n",
    "\n",
    "EPOCHS = 10\n",
    "LR = 1e-6\n",
    "\n",
    "train(model_10_s, df_data_train_train, df_data_train_val, LR, EPOCHS)"
   ]
  },
  {
   "cell_type": "code",
   "execution_count": 26,
   "id": "443d6d36",
   "metadata": {},
   "outputs": [
    {
     "name": "stdout",
     "output_type": "stream",
     "text": [
      "Test Accuracy:  0.778\n",
      "Test Precision:  0.688\n",
      "Test Recall:  0.688\n"
     ]
    },
    {
     "data": {
      "text/plain": [
       "[tensor([0.2542, 0.3633]),\n",
       " tensor([0.8051, 0.3023]),\n",
       " tensor([0.4084, 0.5466]),\n",
       " tensor([0.1036, 0.9349]),\n",
       " tensor([0.8970, 0.0911]),\n",
       " tensor([0.0670, 0.1122]),\n",
       " tensor([0.6330, 0.8812]),\n",
       " tensor([0.3017, 0.7720]),\n",
       " tensor([0.7634, 0.0687]),\n",
       " tensor([0.0544, 0.9176]),\n",
       " tensor([0.0916, 0.7522]),\n",
       " tensor([0.0393, 0.2039]),\n",
       " tensor([0.1659, 0.7979]),\n",
       " tensor([0.2002, 0.7384]),\n",
       " tensor([0.7978, 0.0820]),\n",
       " tensor([0.3404, 0.9350]),\n",
       " tensor([0.6377, 0.1182]),\n",
       " tensor([0.8640, 0.1132]),\n",
       " tensor([0.5781, 0.0829]),\n",
       " tensor([0.7060, 0.1341]),\n",
       " tensor([0.1234, 0.1517]),\n",
       " tensor([0.8637, 0.8648]),\n",
       " tensor([0.1414, 0.7998]),\n",
       " tensor([0.1945, 0.1661]),\n",
       " tensor([0.4921, 0.8812]),\n",
       " tensor([0.1717, 0.0486]),\n",
       " tensor([0.2222, 0.0839]),\n",
       " tensor([0.8356, 0.1011]),\n",
       " tensor([0.1056, 0.0626]),\n",
       " tensor([0.1268, 0.8234]),\n",
       " tensor([0.1801, 0.0963]),\n",
       " tensor([0.7850, 0.0561]),\n",
       " tensor([0.9267, 0.0476]),\n",
       " tensor([0.1003, 0.5772]),\n",
       " tensor([0.1523, 0.8291]),\n",
       " tensor([0.2404, 0.1206]),\n",
       " tensor([0.0487, 0.3158]),\n",
       " tensor([0.4153, 0.5482]),\n",
       " tensor([0.1187, 0.8473]),\n",
       " tensor([0.0514, 0.3319]),\n",
       " tensor([0.1319, 0.1359]),\n",
       " tensor([0.5035, 0.0792]),\n",
       " tensor([0.9049, 0.1740]),\n",
       " tensor([0.1384, 0.3008]),\n",
       " tensor([0.4171, 0.0566])]"
      ]
     },
     "execution_count": 26,
     "metadata": {},
     "output_type": "execute_result"
    }
   ],
   "source": [
    "evaluate(model_10_s, df_data_test)"
   ]
  },
  {
   "cell_type": "code",
   "execution_count": 27,
   "id": "d7842090",
   "metadata": {},
   "outputs": [
    {
     "name": "stderr",
     "output_type": "stream",
     "text": [
      "100%|██████████████████████████████████████████████████████████████████████████████████| 15/15 [06:42<00:00, 26.83s/it]\n"
     ]
    },
    {
     "name": "stdout",
     "output_type": "stream",
     "text": [
      "Epochs: 1 | Train Loss:  0.034 | Train Accuracy:  0.864 | Train Precision:  0.836 | Train Recall:  0.807\n",
      "Epochs: 1 | Valid Loss:  0.039 | Valid Accuracy:  0.825 | Valid Precision:  0.667 | Valid Recall:  0.706\n"
     ]
    },
    {
     "name": "stderr",
     "output_type": "stream",
     "text": [
      "100%|██████████████████████████████████████████████████████████████████████████████████| 15/15 [06:58<00:00, 27.90s/it]\n"
     ]
    },
    {
     "name": "stdout",
     "output_type": "stream",
     "text": [
      "Epochs: 2 | Train Loss:  0.031 | Train Accuracy:  0.871 | Train Precision:  0.852 | Train Recall:  0.807\n",
      "Epochs: 2 | Valid Loss:  0.041 | Valid Accuracy:  0.857 | Valid Precision:  0.750 | Valid Recall:  0.706\n"
     ]
    },
    {
     "name": "stderr",
     "output_type": "stream",
     "text": [
      "100%|██████████████████████████████████████████████████████████████████████████████████| 15/15 [07:21<00:00, 29.43s/it]\n"
     ]
    },
    {
     "name": "stdout",
     "output_type": "stream",
     "text": [
      "Epochs: 3 | Train Loss:  0.029 | Train Accuracy:  0.891 | Train Precision:  0.873 | Train Recall:  0.842\n",
      "Epochs: 3 | Valid Loss:  0.041 | Valid Accuracy:  0.841 | Valid Precision:  0.733 | Valid Recall:  0.647\n"
     ]
    },
    {
     "name": "stderr",
     "output_type": "stream",
     "text": [
      "100%|██████████████████████████████████████████████████████████████████████████████████| 15/15 [11:36<00:00, 46.46s/it]\n"
     ]
    },
    {
     "name": "stdout",
     "output_type": "stream",
     "text": [
      "Epochs: 4 | Train Loss:  0.026 | Train Accuracy:  0.878 | Train Precision:  0.855 | Train Recall:  0.825\n",
      "Epochs: 4 | Valid Loss:  0.042 | Valid Accuracy:  0.810 | Valid Precision:  0.667 | Valid Recall:  0.588\n"
     ]
    },
    {
     "name": "stderr",
     "output_type": "stream",
     "text": [
      "100%|██████████████████████████████████████████████████████████████████████████████████| 15/15 [07:22<00:00, 29.52s/it]\n"
     ]
    },
    {
     "name": "stdout",
     "output_type": "stream",
     "text": [
      "Epochs: 5 | Train Loss:  0.026 | Train Accuracy:  0.891 | Train Precision:  0.860 | Train Recall:  0.860\n",
      "Epochs: 5 | Valid Loss:  0.045 | Valid Accuracy:  0.794 | Valid Precision:  0.611 | Valid Recall:  0.647\n"
     ]
    },
    {
     "name": "stderr",
     "output_type": "stream",
     "text": [
      "100%|██████████████████████████████████████████████████████████████████████████████████| 15/15 [07:24<00:00, 29.66s/it]\n"
     ]
    },
    {
     "name": "stdout",
     "output_type": "stream",
     "text": [
      "Epochs: 6 | Train Loss:  0.025 | Train Accuracy:  0.898 | Train Precision:  0.862 | Train Recall:  0.877\n",
      "Epochs: 6 | Valid Loss:  0.042 | Valid Accuracy:  0.825 | Valid Precision:  0.688 | Valid Recall:  0.647\n"
     ]
    },
    {
     "name": "stderr",
     "output_type": "stream",
     "text": [
      "100%|██████████████████████████████████████████████████████████████████████████████████| 15/15 [07:07<00:00, 28.48s/it]\n"
     ]
    },
    {
     "name": "stdout",
     "output_type": "stream",
     "text": [
      "Epochs: 7 | Train Loss:  0.024 | Train Accuracy:  0.918 | Train Precision:  0.895 | Train Recall:  0.895\n",
      "Epochs: 7 | Valid Loss:  0.041 | Valid Accuracy:  0.825 | Valid Precision:  0.667 | Valid Recall:  0.706\n"
     ]
    },
    {
     "name": "stderr",
     "output_type": "stream",
     "text": [
      "100%|██████████████████████████████████████████████████████████████████████████████████| 15/15 [18:16<00:00, 73.12s/it]\n"
     ]
    },
    {
     "name": "stdout",
     "output_type": "stream",
     "text": [
      "Epochs: 8 | Train Loss:  0.022 | Train Accuracy:  0.905 | Train Precision:  0.877 | Train Recall:  0.877\n",
      "Epochs: 8 | Valid Loss:  0.042 | Valid Accuracy:  0.841 | Valid Precision:  0.706 | Valid Recall:  0.706\n"
     ]
    },
    {
     "name": "stderr",
     "output_type": "stream",
     "text": [
      "100%|██████████████████████████████████████████████████████████████████████████████████| 15/15 [07:02<00:00, 28.14s/it]\n"
     ]
    },
    {
     "name": "stdout",
     "output_type": "stream",
     "text": [
      "Epochs: 9 | Train Loss:  0.022 | Train Accuracy:  0.912 | Train Precision:  0.879 | Train Recall:  0.895\n",
      "Epochs: 9 | Valid Loss:  0.044 | Valid Accuracy:  0.825 | Valid Precision:  0.688 | Valid Recall:  0.647\n"
     ]
    },
    {
     "name": "stderr",
     "output_type": "stream",
     "text": [
      "100%|██████████████████████████████████████████████████████████████████████████████████| 15/15 [07:17<00:00, 29.17s/it]\n"
     ]
    },
    {
     "name": "stdout",
     "output_type": "stream",
     "text": [
      "Epochs: 10 | Train Loss:  0.020 | Train Accuracy:  0.918 | Train Precision:  0.881 | Train Recall:  0.912\n",
      "Epochs: 10 | Valid Loss:  0.044 | Valid Accuracy:  0.825 | Valid Precision:  0.667 | Valid Recall:  0.706\n"
     ]
    }
   ],
   "source": [
    "train(model_10_s, df_data_train_train, df_data_train_val, LR, EPOCHS)"
   ]
  },
  {
   "cell_type": "code",
   "execution_count": 28,
   "id": "43f5c7a1",
   "metadata": {
    "scrolled": true
   },
   "outputs": [
    {
     "name": "stdout",
     "output_type": "stream",
     "text": [
      "Test Accuracy:  0.800\n",
      "Test Precision:  0.733\n",
      "Test Recall:  0.688\n"
     ]
    },
    {
     "data": {
      "text/plain": [
       "[tensor([0.0951, 0.1765]),\n",
       " tensor([0.9285, 0.4667]),\n",
       " tensor([0.3591, 0.5894]),\n",
       " tensor([0.0646, 0.7728]),\n",
       " tensor([0.8818, 0.0495]),\n",
       " tensor([0.0297, 0.0759]),\n",
       " tensor([0.6528, 0.9320]),\n",
       " tensor([0.2411, 0.6881]),\n",
       " tensor([0.8790, 0.0840]),\n",
       " tensor([0.0421, 0.8546]),\n",
       " tensor([0.1793, 0.9141]),\n",
       " tensor([0.0278, 0.0922]),\n",
       " tensor([0.1239, 0.8403]),\n",
       " tensor([0.3164, 0.9282]),\n",
       " tensor([0.9092, 0.0266]),\n",
       " tensor([0.3188, 0.9201]),\n",
       " tensor([0.4934, 0.0956]),\n",
       " tensor([0.9565, 0.0377]),\n",
       " tensor([0.3067, 0.1187]),\n",
       " tensor([0.9067, 0.3601]),\n",
       " tensor([0.0387, 0.0814]),\n",
       " tensor([0.9657, 0.9070]),\n",
       " tensor([0.0636, 0.8380]),\n",
       " tensor([0.0559, 0.0980]),\n",
       " tensor([0.5406, 0.9469]),\n",
       " tensor([0.3637, 0.0630]),\n",
       " tensor([0.1247, 0.0988]),\n",
       " tensor([0.6638, 0.0912]),\n",
       " tensor([0.1013, 0.0342]),\n",
       " tensor([0.0840, 0.9469]),\n",
       " tensor([0.1804, 0.0811]),\n",
       " tensor([0.7121, 0.0368]),\n",
       " tensor([0.9196, 0.0896]),\n",
       " tensor([0.0812, 0.9159]),\n",
       " tensor([0.1379, 0.8400]),\n",
       " tensor([0.3829, 0.1421]),\n",
       " tensor([0.0448, 0.1361]),\n",
       " tensor([0.4466, 0.8161]),\n",
       " tensor([0.0615, 0.7840]),\n",
       " tensor([0.0573, 0.1777]),\n",
       " tensor([0.0592, 0.0762]),\n",
       " tensor([0.3535, 0.0423]),\n",
       " tensor([0.9564, 0.0682]),\n",
       " tensor([0.1121, 0.1802]),\n",
       " tensor([0.3079, 0.0528])]"
      ]
     },
     "execution_count": 28,
     "metadata": {},
     "output_type": "execute_result"
    }
   ],
   "source": [
    "evaluate(model_10_s, df_data_test)"
   ]
  },
  {
   "cell_type": "code",
   "execution_count": 29,
   "id": "3fe70890",
   "metadata": {
    "scrolled": true
   },
   "outputs": [
    {
     "name": "stderr",
     "output_type": "stream",
     "text": [
      "100%|██████████████████████████████████████████████████████████████████████████████████| 15/15 [10:30<00:00, 42.00s/it]\n"
     ]
    },
    {
     "name": "stdout",
     "output_type": "stream",
     "text": [
      "Epochs: 1 | Train Loss:  0.021 | Train Accuracy:  0.925 | Train Precision:  0.883 | Train Recall:  0.930\n",
      "Epochs: 1 | Valid Loss:  0.043 | Valid Accuracy:  0.841 | Valid Precision:  0.667 | Valid Recall:  0.824\n"
     ]
    },
    {
     "name": "stderr",
     "output_type": "stream",
     "text": [
      "100%|██████████████████████████████████████████████████████████████████████████████████| 15/15 [12:44<00:00, 50.96s/it]\n"
     ]
    },
    {
     "name": "stdout",
     "output_type": "stream",
     "text": [
      "Epochs: 2 | Train Loss:  0.019 | Train Accuracy:  0.918 | Train Precision:  0.869 | Train Recall:  0.930\n",
      "Epochs: 2 | Valid Loss:  0.046 | Valid Accuracy:  0.857 | Valid Precision:  0.722 | Valid Recall:  0.765\n"
     ]
    },
    {
     "name": "stderr",
     "output_type": "stream",
     "text": [
      "100%|██████████████████████████████████████████████████████████████████████████████████| 15/15 [16:42<00:00, 66.86s/it]\n"
     ]
    },
    {
     "name": "stdout",
     "output_type": "stream",
     "text": [
      "Epochs: 3 | Train Loss:  0.019 | Train Accuracy:  0.918 | Train Precision:  0.881 | Train Recall:  0.912\n",
      "Epochs: 3 | Valid Loss:  0.040 | Valid Accuracy:  0.841 | Valid Precision:  0.706 | Valid Recall:  0.706\n"
     ]
    },
    {
     "name": "stderr",
     "output_type": "stream",
     "text": [
      "100%|██████████████████████████████████████████████████████████████████████████████████| 15/15 [11:45<00:00, 47.02s/it]\n"
     ]
    },
    {
     "name": "stdout",
     "output_type": "stream",
     "text": [
      "Epochs: 4 | Train Loss:  0.017 | Train Accuracy:  0.925 | Train Precision:  0.883 | Train Recall:  0.930\n",
      "Epochs: 4 | Valid Loss:  0.047 | Valid Accuracy:  0.825 | Valid Precision:  0.667 | Valid Recall:  0.706\n"
     ]
    },
    {
     "name": "stderr",
     "output_type": "stream",
     "text": [
      "100%|█████████████████████████████████████████████████████████████████████████████████| 15/15 [25:52<00:00, 103.49s/it]\n",
      "\n",
      "KeyboardInterrupt\n",
      "\n"
     ]
    }
   ],
   "source": [
    "train(model_10_s, df_data_train_train, df_data_train_val, LR, EPOCHS)"
   ]
  },
  {
   "cell_type": "code",
   "execution_count": 30,
   "id": "f0d23f59",
   "metadata": {},
   "outputs": [
    {
     "name": "stderr",
     "output_type": "stream",
     "text": [
      "Some weights of the model checkpoint at bert-base-cased were not used when initializing BertModel: ['cls.predictions.transform.LayerNorm.weight', 'cls.predictions.transform.LayerNorm.bias', 'cls.predictions.decoder.weight', 'cls.predictions.bias', 'cls.seq_relationship.bias', 'cls.seq_relationship.weight', 'cls.predictions.transform.dense.bias', 'cls.predictions.transform.dense.weight']\n",
      "- This IS expected if you are initializing BertModel from the checkpoint of a model trained on another task or with another architecture (e.g. initializing a BertForSequenceClassification model from a BertForPreTraining model).\n",
      "- This IS NOT expected if you are initializing BertModel from the checkpoint of a model that you expect to be exactly identical (initializing a BertForSequenceClassification model from a BertForSequenceClassification model).\n"
     ]
    },
    {
     "name": "stdout",
     "output_type": "stream",
     "text": [
      "Test Accuracy:  0.856\n",
      "Test Precision:  0.880\n",
      "Test Recall:  0.688\n"
     ]
    },
    {
     "data": {
      "text/plain": [
       "[tensor([0.1215, 0.2981]),\n",
       " tensor([0.9586, 0.1058]),\n",
       " tensor([0.0724, 0.3096]),\n",
       " tensor([0.1521, 0.9604]),\n",
       " tensor([0.8214, 0.1201]),\n",
       " tensor([0.1217, 0.0573]),\n",
       " tensor([0.0631, 0.8358]),\n",
       " tensor([0.0669, 0.9636]),\n",
       " tensor([0.7600, 0.1232]),\n",
       " tensor([0.1374, 0.8665]),\n",
       " tensor([0.0768, 0.7722]),\n",
       " tensor([0.1060, 0.1472]),\n",
       " tensor([0.1451, 0.4162]),\n",
       " tensor([0.1140, 0.7701]),\n",
       " tensor([0.8668, 0.1463]),\n",
       " tensor([0.1450, 0.8633]),\n",
       " tensor([0.1339, 0.1482]),\n",
       " tensor([0.9362, 0.0833]),\n",
       " tensor([0.1026, 0.0947]),\n",
       " tensor([0.1458, 0.6356]),\n",
       " tensor([0.1995, 0.0836]),\n",
       " tensor([0.9540, 0.7988]),\n",
       " tensor([0.1310, 0.2175]),\n",
       " tensor([0.1706, 0.1411]),\n",
       " tensor([0.1557, 0.8868]),\n",
       " tensor([0.1417, 0.1208]),\n",
       " tensor([0.1579, 0.0863]),\n",
       " tensor([0.7105, 0.1926]),\n",
       " tensor([0.1365, 0.0771]),\n",
       " tensor([0.1419, 0.9611]),\n",
       " tensor([0.1688, 0.1459]),\n",
       " tensor([0.8543, 0.1220]),\n",
       " tensor([0.9152, 0.1791]),\n",
       " tensor([0.1450, 0.6131]),\n",
       " tensor([0.1692, 0.8402]),\n",
       " tensor([0.1437, 0.1200]),\n",
       " tensor([0.1020, 0.1345]),\n",
       " tensor([0.1533, 0.2506]),\n",
       " tensor([0.1873, 0.7149]),\n",
       " tensor([0.0873, 0.2193]),\n",
       " tensor([0.0944, 0.1901]),\n",
       " tensor([0.1362, 0.0972]),\n",
       " tensor([0.8093, 0.0957]),\n",
       " tensor([0.2245, 0.5739]),\n",
       " tensor([0.1034, 0.0793])]"
      ]
     },
     "execution_count": 30,
     "metadata": {},
     "output_type": "execute_result"
    }
   ],
   "source": [
    "# Test middle epoch model\n",
    "\n",
    "model_t2 = BertClassifier()\n",
    "model_t2.load_state_dict(torch.load(\"models_before_shuffle/model_4.pt\", map_location=device))\n",
    "evaluate(model_t2, df_data_test)"
   ]
  }
 ],
 "metadata": {
  "kernelspec": {
   "display_name": "Python 3 (ipykernel)",
   "language": "python",
   "name": "python3"
  },
  "language_info": {
   "codemirror_mode": {
    "name": "ipython",
    "version": 3
   },
   "file_extension": ".py",
   "mimetype": "text/x-python",
   "name": "python",
   "nbconvert_exporter": "python",
   "pygments_lexer": "ipython3",
   "version": "3.8.8"
  }
 },
 "nbformat": 4,
 "nbformat_minor": 5
}
